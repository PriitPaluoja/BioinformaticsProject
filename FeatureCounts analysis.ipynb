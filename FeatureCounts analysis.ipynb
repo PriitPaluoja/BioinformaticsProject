{
 "cells": [
  {
   "cell_type": "code",
   "execution_count": 48,
   "metadata": {},
   "outputs": [],
   "source": [
    "import pandas as pd\n",
    "import matplotlib.pyplot as plt\n",
    "import numpy as np"
   ]
  },
  {
   "cell_type": "code",
   "execution_count": 34,
   "metadata": {},
   "outputs": [],
   "source": [
    "df_lossy = pd.read_csv(\"ERR188021.lossy.cram.bam.counts\", skiprows=1, sep=\"\\t\", usecols=[0, 6], \n",
    "                 names=[\"gene_id\", \"counts\"], header=0)\n",
    "df_normal = pd.read_csv(\"ERR188021.bam.counts\", skiprows=1, sep=\"\\t\", usecols=[0, 6],\n",
    "                       names=[\"gene_id\", \"counts\"], header=0)"
   ]
  },
  {
   "cell_type": "code",
   "execution_count": 37,
   "metadata": {},
   "outputs": [
    {
     "name": "stdout",
     "output_type": "stream",
     "text": [
      "11604303\n"
     ]
    }
   ],
   "source": [
    "lossy_counts = df_lossy[\"counts\"].sum()\n",
    "normal_counts = df_normal[\"counts\"].sum()\n",
    "print(lossy_counts - normal_counts)"
   ]
  },
  {
   "cell_type": "code",
   "execution_count": 42,
   "metadata": {},
   "outputs": [],
   "source": [
    "df_diff = pd.DataFrame()\n",
    "df_diff[\"counts\"] = abs(df_normal[\"counts\"] - df_lossy[\"counts\"])"
   ]
  },
  {
   "cell_type": "code",
   "execution_count": 64,
   "metadata": {},
   "outputs": [
    {
     "name": "stdout",
     "output_type": "stream",
     "text": [
      "257037\n",
      "1\n"
     ]
    }
   ],
   "source": [
    "print(max(list(df_diff[\"counts\"].value_counts().sort_values(axis=0).index)))\n",
    "print(df_diff[\"counts\"].value_counts()[257037])"
   ]
  },
  {
   "cell_type": "code",
   "execution_count": null,
   "metadata": {},
   "outputs": [],
   "source": []
  }
 ],
 "metadata": {
  "kernelspec": {
   "display_name": "Python 3",
   "language": "python",
   "name": "python3"
  },
  "language_info": {
   "codemirror_mode": {
    "name": "ipython",
    "version": 3
   },
   "file_extension": ".py",
   "mimetype": "text/x-python",
   "name": "python",
   "nbconvert_exporter": "python",
   "pygments_lexer": "ipython3",
   "version": "3.7.1"
  }
 },
 "nbformat": 4,
 "nbformat_minor": 2
}
